{
 "metadata": {
  "language_info": {
   "codemirror_mode": {
    "name": "ipython",
    "version": 3
   },
   "file_extension": ".py",
   "mimetype": "text/x-python",
   "name": "python",
   "nbconvert_exporter": "python",
   "pygments_lexer": "ipython3",
   "version": "3.8.5-final"
  },
  "orig_nbformat": 2,
  "kernelspec": {
   "name": "python3",
   "display_name": "Python 3.8.5 64-bit (conda)",
   "metadata": {
    "interpreter": {
     "hash": "b3ba2566441a7c06988d0923437866b63cedc61552a5af99d1f4fb67d367b25f"
    }
   }
  }
 },
 "nbformat": 4,
 "nbformat_minor": 2,
 "cells": [
  {
   "source": [
    "# Text Classification  \n",
    "\n",
    "by Christoph Guettner\n",
    "\n",
    "**Abstract:**  Here, we use Shakespeare's Macbeth and   \n",
    "many songtexts from Lenard Cohen to build a classifaction   \n",
    "model. The classifaction model is then used to classify   \n",
    "quotes from Partrick Rothfuss to be either like Shakespeare  \n",
    "or like Cohen.    \n",
    "To build the model a multinominal Naive Bayes algorithm is used.   \n",
    "To vectorize the input data (feature extraction) a tfidf counting   \n",
    "is used to provide the elements of the input matrix (feature matrix).  "
   ],
   "cell_type": "markdown",
   "metadata": {}
  },
  {
   "source": [
    "## Table of Contents\n",
    "* [Loading and Preprocessing](#Loading_and_Preprocessing)\n",
    "    * [Imports](#Imports)\n",
    "    * [Functions](#Functions)\n",
    "\n",
    "* [Load Data](#Load_Data)\n",
    "    * [Preprocessing](#Preprocessing)\n",
    "    * [Vectorization](#Vectorization)\n",
    "\n",
    "* [Build Model](#Build_Model)\n",
    "    * [Train_Predict](#Train_Predict)\n",
    "    * [Evaluate](#Evaluate)\n",
    "    * [get learning curve](#get_learning_curve)\n",
    "\n",
    "* [Classify quotes](#Classify_quotes)\n",
    "\n"
   ],
   "cell_type": "markdown",
   "metadata": {}
  },
  {
   "cell_type": "code",
   "execution_count": 67,
   "metadata": {},
   "outputs": [],
   "source": [
    "import os\n",
    "import pandas as pd\n",
    "import numpy as np\n",
    "from collections import Counter\n",
    "\n",
    "import nltk\n",
    "from wordcloud import WordCloud\n",
    "from nltk.corpus import stopwords\n",
    "\n",
    "import matplotlib.pyplot as plt \n",
    "import seaborn as sns\n",
    "sns.set()\n",
    "\n",
    "from sklearn.feature_extraction.text import TfidfVectorizer\n",
    "from sklearn.feature_extraction.text import TfidfTransformer\n",
    "from sklearn.model_selection import train_test_split\n",
    "from sklearn.naive_bayes import MultinomialNB\n",
    "\n",
    "from sklearn.model_selection import learning_curve\n",
    "from sklearn.model_selection import cross_val_score\n",
    "\n",
    "from sklearn.metrics import accuracy_score"
   ]
  },
  {
   "cell_type": "code",
   "execution_count": 68,
   "metadata": {},
   "outputs": [],
   "source": [
    "def remove_empty_lines(lines):\n",
    "    Non_emtpy=[]\n",
    "    for line in lines:\n",
    "        if line.strip():\n",
    "            Non_emtpy.append(line)\n",
    "    return Non_emtpy\n",
    "\n",
    "def equalize_inputs(more_input, equal_input):\n",
    "    Equal = []\n",
    "    for i in range(len(equal_input)):\n",
    "        sample=np.random.choice(more_input)\n",
    "        Equal.append(sample)\n",
    "    return Equal, equal_input\n",
    "\n",
    "def print_semantic_input(features):\n",
    "    for i in range(100):\n",
    "        look = tfidf.inverse_transform(features[i])\n",
    "        print(look[0])\n",
    "\n",
    "def get_learning_curve(features, y):\n",
    "    train_size=np.linspace(0.1, 1.0, 20)\n",
    "    train_sizes, train_scores, test_scores = learning_curve(MultinomialNB(), features, y,                                                                              train_sizes=train_size, cv=7)\n",
    "\n",
    "    train_scores_means = np.mean(train_scores, axis=1)\n",
    "    train_scores_std = np.std(train_scores, axis=1)\n",
    "    test_scores_means = np.mean(test_scores, axis=1)\n",
    "    test_scores_std = np.std(test_scores, axis=1)\n",
    "    return train_sizes, train_scores_means,train_scores_std,test_scores_means, test_scores_std\n",
    "\n",
    "\n",
    "def plot_learning_curve(train_sizes, train_scores_means, train_scores_std,test_scores_means, test_scores_std):\n",
    "    fig, ax = plt.subplots(1, figsize = (15,5))\n",
    "    fig.suptitle('Learning_Curves', color ='0.7' )\n",
    "    ax.plot(train_sizes, test_scores_means, label='Test')\n",
    "    ax.plot(train_sizes, train_scores_means, label='Train')\n",
    "    ax.fill_between(train_sizes, train_scores_means - train_scores_std,\n",
    "                        train_scores_means + train_scores_std, alpha=0.1,\n",
    "                        color=\"orange\")\n",
    "    ax.fill_between(train_sizes, test_scores_means - test_scores_std,\n",
    "                        test_scores_means + test_scores_std, alpha=0.1,\n",
    "                        color=\"blue\")\n",
    "    ax.legend(loc=\"best\")\n",
    "\n",
    "def classify_quotes(quotes, model):\n",
    "    features_quotes = tfidf.transform(quotes)\n",
    "    for i in range(len(quotes)):\n",
    "        answer= model.predict_proba(features_quotes[i])\n",
    "        if answer[0][0] < 0.5:\n",
    "            print('Sounds like a Sentence from Cohen with probability {}'.format(answer[0][1]))\n",
    "        else:\n",
    "            print('Sounds like a Sentence from Shakespeare with probability {}'.format(answer[0][0]))\n",
    "      "
   ]
  },
  {
   "source": [
    "## Load_Data"
   ],
   "cell_type": "markdown",
   "metadata": {}
  },
  {
   "cell_type": "code",
   "execution_count": 69,
   "metadata": {},
   "outputs": [],
   "source": [
    "\n",
    "Cohen_doc = open(\".\\\\Data\\\\LCohen\\\\Cohen.txt\" , \"r\")\n",
    "Cohen_lines = Cohen_doc.readlines()\n",
    "Cohen_doc.close()\n",
    "\n",
    "Shakespeare_doc = open('.\\\\Data\\\\books\\\\Macbeth.txt' , \"r\")\n",
    "Shakespeare_lines = Shakespeare_doc.readlines()\n",
    "Cohen_doc.close()"
   ]
  },
  {
   "cell_type": "code",
   "execution_count": 70,
   "metadata": {},
   "outputs": [],
   "source": [
    "Cohen = remove_empty_lines(Cohen_lines)\n",
    "Shakespeare = remove_empty_lines(Shakespeare_lines)"
   ]
  },
  {
   "cell_type": "code",
   "execution_count": 71,
   "metadata": {},
   "outputs": [
    {
     "output_type": "execute_result",
     "data": {
      "text/plain": [
       "True"
      ]
     },
     "metadata": {},
     "execution_count": 71
    }
   ],
   "source": [
    "Shakespeare_eq, Cohen_eq = equalize_inputs(Shakespeare, Cohen)\n",
    "len(Cohen_eq)==len(Shakespeare_eq)"
   ]
  },
  {
   "cell_type": "code",
   "execution_count": 72,
   "metadata": {},
   "outputs": [],
   "source": [
    "#label and combine both within a dataframe\n",
    "dictionary= {'label':[0]*len(Shakespeare_eq)+[1]*len(Cohen_eq), 'words':Shakespeare_eq + Cohen_eq}\n",
    "df_both = pd.DataFrame(dictionary)"
   ]
  },
  {
   "cell_type": "code",
   "execution_count": 73,
   "metadata": {},
   "outputs": [],
   "source": [
    "x = df_both.words\n",
    "y = df_both.label"
   ]
  },
  {
   "source": [
    "### train test split"
   ],
   "cell_type": "markdown",
   "metadata": {}
  },
  {
   "cell_type": "code",
   "execution_count": 74,
   "metadata": {},
   "outputs": [],
   "source": [
    "\n",
    "X_train, X_test, y_train, y_test = train_test_split(x, y, test_size=0.2, random_state=42)"
   ]
  },
  {
   "source": [
    "## Vectorize"
   ],
   "cell_type": "markdown",
   "metadata": {}
  },
  {
   "cell_type": "code",
   "execution_count": 75,
   "metadata": {},
   "outputs": [
    {
     "output_type": "execute_result",
     "data": {
      "text/plain": [
       "(2499, 3385)"
      ]
     },
     "metadata": {},
     "execution_count": 75
    }
   ],
   "source": [
    "\n",
    "tfidf = TfidfVectorizer(min_df=2, max_df=0.5, ngram_range=(1, 2))\n",
    "features_train = tfidf.fit_transform(X_train)\n",
    "features_test = tfidf.transform(X_test)\n",
    "\n",
    "df_train = pd.DataFrame(\n",
    "    features_train.todense(),columns=tfidf.get_feature_names())\n",
    "\n",
    "df_train.shape\n",
    "\n",
    "\n"
   ]
  },
  {
   "source": [
    "## Have a look in the semantics of the data"
   ],
   "cell_type": "markdown",
   "metadata": {}
  },
  {
   "cell_type": "code",
   "execution_count": 76,
   "metadata": {},
   "outputs": [
    {
     "output_type": "stream",
     "name": "stdout",
     "text": [
      "['don' 'baby']\n",
      "['you re' 'you' 'with' 're' 'love' 'in love' 'in' 'if you' 'if']\n",
      "['the one' 'the' 'that' 'seems' 'one that' 'one' 'except']\n",
      "['was' 'traitor' 'my' 'mother' 'father']\n",
      "['to my' 'to' 'old' 'my' 'age']\n",
      "['once again' 'once' 'again once' 'again']\n",
      "['you' 'where are' 'where' 'to' 'said' 'myself' 'golden' 'boy' 'are you'\n",
      " 'are']\n",
      "['you say' 'you' 'what' 'say' 'heard']\n",
      "['where' 'we' 'the night' 'the' 'night' 'lay' 'has been' 'has' 'been']\n",
      "['your man' 'your' 'man']\n",
      "['your' 'woman' 'well' 'sleeping' 'is' 'his woman' 'his' 'free' 'enemy'\n",
      " 'and his' 'and']\n",
      "['your perfect' 'your' 'perfect offering' 'perfect' 'offering'\n",
      " 'forget your' 'forget']\n",
      "['which' 'war' 'towards' 'the war' 'the']\n",
      "['macbeth' 'lady macbeth' 'lady']\n",
      "['you' 'of every' 'of' 'in' 'full' 'every' 'command']\n",
      "['you' 'the' 'so' 'out' 'had so' 'had' 'as you' 'as' 'and']\n",
      "['woman' 'thereâ' 'the' 'in the' 'in']\n",
      "['their' 'seem' 'must' 'it' 'for it' 'for']\n",
      "['vienna' 'there' 'in vienna' 'in']\n",
      "['my love' 'my' 'love' 'hello my' 'hello']\n",
      "['through the' 'through' 'the dark' 'the' 'of the' 'of' 'nor' 'heaven'\n",
      " 'dark']\n",
      "['the' 'that' 'in the' 'in']\n",
      "['with macbeth' 'with' 'trade' 'to' 'macbeth' 'and']\n",
      "['truth' 'than' 'speaking' 'no less' 'no' 'my' 'life' 'less' 'in truth'\n",
      " 'in' 'first']\n",
      "['your' 'it' 'face' 'at your' 'at' 'and it' 'and']\n",
      "['wood' 'what' 'us' 'this' 'is this' 'is' 'before']\n",
      "['sorrow' 'of sorrow' 'of' 'and']\n",
      "['on' 'health' 'both' 'and']\n",
      "['was ever' 'was' 'someone' 'ever']\n",
      "['to' 'they' 'of' 'me to' 'me']\n",
      "['with' 'speak' 'not' 'new' 'me' 'do not' 'do' 'bid']\n",
      "['you' 'take me' 'take' 'me' 'let' 'home' 'before']\n",
      "['your' 'mercy' 'let']\n",
      "['you' 'when you' 'when' 'feel' 'can' 'but']\n",
      "['macbeth']\n",
      "['things' 'the frame' 'the' 'of' 'let' 'frame' 'but let' 'but']\n",
      "['needs my' 'needs' 'my helping' 'my' 'helping hand' 'helping' 'hand']\n",
      "['which' 'this' 'now' 'draw' 'as']\n",
      "['banquo']\n",
      "['which' 'we' 'this' 'now' 'for' 'and' 'all']\n",
      "['you' 'them' 'tell' 'now']\n",
      "['you' 'what you' 'what' 'tell me' 'tell' 'me' 'ah']\n",
      "['wood remove' 'wood' 'to dunsinane' 'to' 'till birnam' 'till' 'remove to'\n",
      " 'remove' 'dunsinane' 'birnam wood' 'birnam']\n",
      "['the' 'should' 'old' 'knocking knock' 'knocking' 'knock' 'have']\n",
      "['duncan']\n",
      "['was' 'really' 'only' 'lame']\n",
      "['macbeth']\n",
      "['well']\n",
      "['will' 'the' 'of' 'most' 'fight']\n",
      "['the' 'in the' 'in' 'guided by' 'guided' 'by']\n",
      "['your love' 'your' 'you can' 'you' 'with' 'love' 'find' 'can']\n",
      "['what is' 'what' 'themselves and' 'themselves' 'is' 'in' 'have'\n",
      " 'and what' 'and']\n",
      "['ready' 'my lord' 'my' 'lord']\n",
      "['macduff']\n",
      "['you' 'train' 'to the' 'to meet' 'to' 'the station' 'the' 'station'\n",
      " 'meet' 'every' 'been']\n",
      "['wife' 'my wife' 'my' 'how' 'does']\n",
      "['you was' 'you' 'was' 'told you' 'told' 'those' 'one' 'of those' 'of']\n",
      "['way down' 'way' 'wasn it' 'wasn' 'long' 'it' 'down' 'and']\n",
      "['you re' 'you now' 'you' 'to see' 'to' 'see' 're' 'now' 'just to' 'just'\n",
      " 'if you' 'if' 'better']\n",
      "['macduff']\n",
      "['to' 'them' 'no']\n",
      "['where' 'the' 'station' 'in the' 'in' 'he' 'fought']\n",
      "['you' 've' 'truth' 'told' 'to' 'the truth' 'the' 'fool' 'didn' 'come to'\n",
      " 'come']\n",
      "['your' 'is your' 'is' 'here is' 'here' 'crown']\n",
      "['which' 'the' 'st' 'night' 'it' 'is' 'he is' 'he' 'good' 'gives the'\n",
      " 'gives' 'about it' 'about']\n",
      "['yes' 'we are' 'we' 'us know' 'us' 'that we' 'that' 'not' 'new' 'many'\n",
      " 'loved' 'know that' 'know' 'before' 'are not' 'are']\n",
      "['witch' 'second witch' 'second']\n",
      "['you want' 'you' 'want' 'of love' 'of' 'love' 'kind of' 'kind' 'if you'\n",
      " 'if' 'another' 'and if' 'and']\n",
      "['we' 'the one' 'the' 'that we' 'that' 're' 'one that' 'one' 'not the'\n",
      " 'not' 'at' 'after']\n",
      "['yourself' 'your husband' 'your' 'you' 'pray you' 'pray' 'husband'\n",
      " 'for your' 'for' 'but']\n",
      "['the']\n",
      "['shall' 'not be' 'not' 'long' 'll be' 'll' 'here' 'but' 'be' 'again']\n",
      "['who in' 'who by' 'who' 'in her' 'in' 'her' 'by' 'and who' 'and']\n",
      "['the' 'king' 'hallelujah']\n",
      "['soldier' 'exit']\n",
      "['upon' 'that' 'look']\n",
      "['with' 'and']\n",
      "['was just' 'was' 'the man' 'the' 'man' 'just the' 'just' 'and']\n",
      "['you' 'to love' 'to go' 'to' 'love you' 'love' 'had to' 'had' 'go'\n",
      " 'crazy']\n",
      "['know' 'had' 'didn']\n",
      "['whose' 'strike' 'cannot' 'at']\n",
      "['your hair' 'your' 'she' 'hair' 'cut' 'and she' 'and']\n",
      "['macbeth']\n",
      "['the dark' 'the' 'sea' 'on the' 'on' 'dark']\n",
      "['woman' 'to make' 'to' 'some' 'smile' 'or' 'make']\n",
      "['the' 'out' 'his' 'he']\n",
      "['hecate' 'enter']\n",
      "['you' 'will' 'well' 'much' 'if' 'him' 'he will' 'he' 'be' 'again']\n",
      "['without' 'were' 'it' 'bare']\n",
      "['the' 'in the' 'in' 'green' 'deep in' 'deep']\n",
      "['was' 'there' 'stood' 'she' 'oh' 'naked' 'me' 'great' 'for me' 'for'\n",
      " 'babylon']\n",
      "['then the' 'then' 'the stand' 'the' 'stand in' 'stand' 'rehearsal rag'\n",
      " 'rehearsal' 'rag' 'pan' 'man' 'in' 'dress rehearsal' 'dress' 'and then'\n",
      " 'and']\n",
      "['with fear' 'with' 'shame' 'fear' 'and']\n",
      "['with' 'to speak' 'to' 'speak' 'love to' 'love' 'leonard']\n",
      "['you don' 'you' 'so' 'now' 'me' 'love' 'don']\n",
      "['we' 'the' 'places' 'of the' 'of' 'hide' 'could']\n",
      "['witch' 'first witch' 'first']\n",
      "['the night' 'the' 'of the' 'of' 'night' 'must' 'become']\n",
      "['you' 'mean' 'his']\n",
      "['hallelujah']\n"
     ]
    }
   ],
   "source": [
    "#prints first 100 input lines. try if you can find the author\n",
    "print_semantic_input(features_test)"
   ]
  },
  {
   "source": [
    "## Build Model  \n",
    "\n",
    "Buidling a Multinomial Naive Bayes Classifier. "
   ],
   "cell_type": "markdown",
   "metadata": {}
  },
  {
   "cell_type": "code",
   "execution_count": 77,
   "metadata": {},
   "outputs": [],
   "source": [
    "clf = MultinomialNB()\n",
    "model = clf.fit(features_train, y_train)"
   ]
  },
  {
   "cell_type": "code",
   "execution_count": 78,
   "metadata": {},
   "outputs": [],
   "source": [
    "pred = model.predict(features_test)\n",
    "pred_model = model.predict(features_train)\n"
   ]
  },
  {
   "source": [
    "## Evaluation"
   ],
   "cell_type": "markdown",
   "metadata": {}
  },
  {
   "source": [
    "### Model Performance on the test data"
   ],
   "cell_type": "markdown",
   "metadata": {}
  },
  {
   "cell_type": "code",
   "execution_count": 79,
   "metadata": {},
   "outputs": [
    {
     "output_type": "execute_result",
     "data": {
      "text/plain": [
       "0.8704"
      ]
     },
     "metadata": {},
     "execution_count": 79
    }
   ],
   "source": [
    "accuracy_score(y_test, pred)"
   ]
  },
  {
   "source": [
    "### Model Performance on the training data"
   ],
   "cell_type": "markdown",
   "metadata": {}
  },
  {
   "cell_type": "code",
   "execution_count": 84,
   "metadata": {},
   "outputs": [
    {
     "output_type": "execute_result",
     "data": {
      "text/plain": [
       "0.9443777511004402"
      ]
     },
     "metadata": {},
     "execution_count": 84
    }
   ],
   "source": [
    "accuracy_score(y_train, pred_model)\n"
   ]
  },
  {
   "source": [
    "### Comparing to dump classifier (guessing 50/50)"
   ],
   "cell_type": "markdown",
   "metadata": {}
  },
  {
   "cell_type": "code",
   "execution_count": 81,
   "metadata": {},
   "outputs": [
    {
     "output_type": "execute_result",
     "data": {
      "text/plain": [
       "0.4688"
      ]
     },
     "metadata": {},
     "execution_count": 81
    }
   ],
   "source": [
    "dump_classifier_test = [0]*len(y_test)\n",
    "accuracy_score(dump_classifier_test, pred)"
   ]
  },
  {
   "source": [
    "## Learning Curve"
   ],
   "cell_type": "markdown",
   "metadata": {}
  },
  {
   "cell_type": "code",
   "execution_count": 82,
   "metadata": {},
   "outputs": [
    {
     "output_type": "display_data",
     "data": {
      "text/plain": "<Figure size 1080x360 with 1 Axes>",
      "image/svg+xml": "<?xml version=\"1.0\" encoding=\"utf-8\" standalone=\"no\"?>\r\n<!DOCTYPE svg PUBLIC \"-//W3C//DTD SVG 1.1//EN\"\r\n  \"http://www.w3.org/Graphics/SVG/1.1/DTD/svg11.dtd\">\r\n<!-- Created with matplotlib (https://matplotlib.org/) -->\r\n<svg height=\"341.759844pt\" version=\"1.1\" viewBox=\"0 0 882.307031 341.759844\" width=\"882.307031pt\" xmlns=\"http://www.w3.org/2000/svg\" xmlns:xlink=\"http://www.w3.org/1999/xlink\">\r\n <metadata>\r\n  <rdf:RDF xmlns:cc=\"http://creativecommons.org/ns#\" xmlns:dc=\"http://purl.org/dc/elements/1.1/\" xmlns:rdf=\"http://www.w3.org/1999/02/22-rdf-syntax-ns#\">\r\n   <cc:Work>\r\n    <dc:type rdf:resource=\"http://purl.org/dc/dcmitype/StillImage\"/>\r\n    <dc:date>2021-04-06T17:28:56.255913</dc:date>\r\n    <dc:format>image/svg+xml</dc:format>\r\n    <dc:creator>\r\n     <cc:Agent>\r\n      <dc:title>Matplotlib v3.3.4, https://matplotlib.org/</dc:title>\r\n     </cc:Agent>\r\n    </dc:creator>\r\n   </cc:Work>\r\n  </rdf:RDF>\r\n </metadata>\r\n <defs>\r\n  <style type=\"text/css\">*{stroke-linecap:butt;stroke-linejoin:round;}</style>\r\n </defs>\r\n <g id=\"figure_1\">\r\n  <g id=\"patch_1\">\r\n   <path d=\"M 0 341.759844 \r\nL 882.307031 341.759844 \r\nL 882.307031 0 \r\nL 0 0 \r\nz\r\n\" style=\"fill:#ffffff;\"/>\r\n  </g>\r\n  <g id=\"axes_1\">\r\n   <g id=\"patch_2\">\r\n    <path d=\"M 38.107031 315 \r\nL 875.107031 315 \r\nL 875.107031 43.2 \r\nL 38.107031 43.2 \r\nz\r\n\" style=\"fill:#eaeaf2;\"/>\r\n   </g>\r\n   <g id=\"matplotlib.axis_1\">\r\n    <g id=\"xtick_1\">\r\n     <g id=\"line2d_1\">\r\n      <path clip-path=\"url(#p0b48ff25cf)\" d=\"M 90.360332 315 \r\nL 90.360332 43.2 \r\n\" style=\"fill:none;stroke:#ffffff;stroke-linecap:round;\"/>\r\n     </g>\r\n     <g id=\"text_1\">\r\n      <!-- 250 -->\r\n      <g style=\"fill:#262626;\" transform=\"translate(81.184785 332.373594)scale(0.11 -0.11)\">\r\n       <defs>\r\n        <path d=\"M 50.34375 8.453125 \r\nL 50.34375 0 \r\nL 3.03125 0 \r\nQ 2.9375 3.171875 4.046875 6.109375 \r\nQ 5.859375 10.9375 9.828125 15.625 \r\nQ 13.8125 20.3125 21.34375 26.46875 \r\nQ 33.015625 36.03125 37.109375 41.625 \r\nQ 41.21875 47.21875 41.21875 52.203125 \r\nQ 41.21875 57.421875 37.46875 61 \r\nQ 33.734375 64.59375 27.734375 64.59375 \r\nQ 21.390625 64.59375 17.578125 60.78125 \r\nQ 13.765625 56.984375 13.71875 50.25 \r\nL 4.6875 51.171875 \r\nQ 5.609375 61.28125 11.65625 66.578125 \r\nQ 17.71875 71.875 27.9375 71.875 \r\nQ 38.234375 71.875 44.234375 66.15625 \r\nQ 50.25 60.453125 50.25 52 \r\nQ 50.25 47.703125 48.484375 43.546875 \r\nQ 46.734375 39.40625 42.65625 34.8125 \r\nQ 38.578125 30.21875 29.109375 22.21875 \r\nQ 21.1875 15.578125 18.9375 13.203125 \r\nQ 16.703125 10.84375 15.234375 8.453125 \r\nz\r\n\" id=\"ArialMT-50\"/>\r\n        <path d=\"M 4.15625 18.75 \r\nL 13.375 19.53125 \r\nQ 14.40625 12.796875 18.140625 9.390625 \r\nQ 21.875 6 27.15625 6 \r\nQ 33.5 6 37.890625 10.78125 \r\nQ 42.28125 15.578125 42.28125 23.484375 \r\nQ 42.28125 31 38.0625 35.34375 \r\nQ 33.84375 39.703125 27 39.703125 \r\nQ 22.75 39.703125 19.328125 37.765625 \r\nQ 15.921875 35.84375 13.96875 32.765625 \r\nL 5.71875 33.84375 \r\nL 12.640625 70.609375 \r\nL 48.25 70.609375 \r\nL 48.25 62.203125 \r\nL 19.671875 62.203125 \r\nL 15.828125 42.96875 \r\nQ 22.265625 47.46875 29.34375 47.46875 \r\nQ 38.71875 47.46875 45.15625 40.96875 \r\nQ 51.609375 34.46875 51.609375 24.265625 \r\nQ 51.609375 14.546875 45.953125 7.46875 \r\nQ 39.0625 -1.21875 27.15625 -1.21875 \r\nQ 17.390625 -1.21875 11.203125 4.25 \r\nQ 5.03125 9.71875 4.15625 18.75 \r\nz\r\n\" id=\"ArialMT-53\"/>\r\n        <path d=\"M 4.15625 35.296875 \r\nQ 4.15625 48 6.765625 55.734375 \r\nQ 9.375 63.484375 14.515625 67.671875 \r\nQ 19.671875 71.875 27.484375 71.875 \r\nQ 33.25 71.875 37.59375 69.546875 \r\nQ 41.9375 67.234375 44.765625 62.859375 \r\nQ 47.609375 58.5 49.21875 52.21875 \r\nQ 50.828125 45.953125 50.828125 35.296875 \r\nQ 50.828125 22.703125 48.234375 14.96875 \r\nQ 45.65625 7.234375 40.5 3 \r\nQ 35.359375 -1.21875 27.484375 -1.21875 \r\nQ 17.140625 -1.21875 11.234375 6.203125 \r\nQ 4.15625 15.140625 4.15625 35.296875 \r\nz\r\nM 13.1875 35.296875 \r\nQ 13.1875 17.671875 17.3125 11.828125 \r\nQ 21.4375 6 27.484375 6 \r\nQ 33.546875 6 37.671875 11.859375 \r\nQ 41.796875 17.71875 41.796875 35.296875 \r\nQ 41.796875 52.984375 37.671875 58.78125 \r\nQ 33.546875 64.59375 27.390625 64.59375 \r\nQ 21.34375 64.59375 17.71875 59.46875 \r\nQ 13.1875 52.9375 13.1875 35.296875 \r\nz\r\n\" id=\"ArialMT-48\"/>\r\n       </defs>\r\n       <use xlink:href=\"#ArialMT-50\"/>\r\n       <use x=\"55.615234\" xlink:href=\"#ArialMT-53\"/>\r\n       <use x=\"111.230469\" xlink:href=\"#ArialMT-48\"/>\r\n      </g>\r\n     </g>\r\n    </g>\r\n    <g id=\"xtick_2\">\r\n     <g id=\"line2d_2\">\r\n      <path clip-path=\"url(#p0b48ff25cf)\" d=\"M 189.02593 315 \r\nL 189.02593 43.2 \r\n\" style=\"fill:none;stroke:#ffffff;stroke-linecap:round;\"/>\r\n     </g>\r\n     <g id=\"text_2\">\r\n      <!-- 500 -->\r\n      <g style=\"fill:#262626;\" transform=\"translate(179.850383 332.373594)scale(0.11 -0.11)\">\r\n       <use xlink:href=\"#ArialMT-53\"/>\r\n       <use x=\"55.615234\" xlink:href=\"#ArialMT-48\"/>\r\n       <use x=\"111.230469\" xlink:href=\"#ArialMT-48\"/>\r\n      </g>\r\n     </g>\r\n    </g>\r\n    <g id=\"xtick_3\">\r\n     <g id=\"line2d_3\">\r\n      <path clip-path=\"url(#p0b48ff25cf)\" d=\"M 287.691528 315 \r\nL 287.691528 43.2 \r\n\" style=\"fill:none;stroke:#ffffff;stroke-linecap:round;\"/>\r\n     </g>\r\n     <g id=\"text_3\">\r\n      <!-- 750 -->\r\n      <g style=\"fill:#262626;\" transform=\"translate(278.515981 332.373594)scale(0.11 -0.11)\">\r\n       <defs>\r\n        <path d=\"M 4.734375 62.203125 \r\nL 4.734375 70.65625 \r\nL 51.078125 70.65625 \r\nL 51.078125 63.8125 \r\nQ 44.234375 56.546875 37.515625 44.484375 \r\nQ 30.8125 32.421875 27.15625 19.671875 \r\nQ 24.515625 10.6875 23.78125 0 \r\nL 14.75 0 \r\nQ 14.890625 8.453125 18.0625 20.40625 \r\nQ 21.234375 32.375 27.171875 43.484375 \r\nQ 33.109375 54.59375 39.796875 62.203125 \r\nz\r\n\" id=\"ArialMT-55\"/>\r\n       </defs>\r\n       <use xlink:href=\"#ArialMT-55\"/>\r\n       <use x=\"55.615234\" xlink:href=\"#ArialMT-53\"/>\r\n       <use x=\"111.230469\" xlink:href=\"#ArialMT-48\"/>\r\n      </g>\r\n     </g>\r\n    </g>\r\n    <g id=\"xtick_4\">\r\n     <g id=\"line2d_4\">\r\n      <path clip-path=\"url(#p0b48ff25cf)\" d=\"M 386.357126 315 \r\nL 386.357126 43.2 \r\n\" style=\"fill:none;stroke:#ffffff;stroke-linecap:round;\"/>\r\n     </g>\r\n     <g id=\"text_4\">\r\n      <!-- 1000 -->\r\n      <g style=\"fill:#262626;\" transform=\"translate(374.123063 332.373594)scale(0.11 -0.11)\">\r\n       <defs>\r\n        <path d=\"M 37.25 0 \r\nL 28.46875 0 \r\nL 28.46875 56 \r\nQ 25.296875 52.984375 20.140625 49.953125 \r\nQ 14.984375 46.921875 10.890625 45.40625 \r\nL 10.890625 53.90625 \r\nQ 18.265625 57.375 23.78125 62.296875 \r\nQ 29.296875 67.234375 31.59375 71.875 \r\nL 37.25 71.875 \r\nz\r\n\" id=\"ArialMT-49\"/>\r\n       </defs>\r\n       <use xlink:href=\"#ArialMT-49\"/>\r\n       <use x=\"55.615234\" xlink:href=\"#ArialMT-48\"/>\r\n       <use x=\"111.230469\" xlink:href=\"#ArialMT-48\"/>\r\n       <use x=\"166.845703\" xlink:href=\"#ArialMT-48\"/>\r\n      </g>\r\n     </g>\r\n    </g>\r\n    <g id=\"xtick_5\">\r\n     <g id=\"line2d_5\">\r\n      <path clip-path=\"url(#p0b48ff25cf)\" d=\"M 485.022723 315 \r\nL 485.022723 43.2 \r\n\" style=\"fill:none;stroke:#ffffff;stroke-linecap:round;\"/>\r\n     </g>\r\n     <g id=\"text_5\">\r\n      <!-- 1250 -->\r\n      <g style=\"fill:#262626;\" transform=\"translate(472.788661 332.373594)scale(0.11 -0.11)\">\r\n       <use xlink:href=\"#ArialMT-49\"/>\r\n       <use x=\"55.615234\" xlink:href=\"#ArialMT-50\"/>\r\n       <use x=\"111.230469\" xlink:href=\"#ArialMT-53\"/>\r\n       <use x=\"166.845703\" xlink:href=\"#ArialMT-48\"/>\r\n      </g>\r\n     </g>\r\n    </g>\r\n    <g id=\"xtick_6\">\r\n     <g id=\"line2d_6\">\r\n      <path clip-path=\"url(#p0b48ff25cf)\" d=\"M 583.688321 315 \r\nL 583.688321 43.2 \r\n\" style=\"fill:none;stroke:#ffffff;stroke-linecap:round;\"/>\r\n     </g>\r\n     <g id=\"text_6\">\r\n      <!-- 1500 -->\r\n      <g style=\"fill:#262626;\" transform=\"translate(571.454259 332.373594)scale(0.11 -0.11)\">\r\n       <use xlink:href=\"#ArialMT-49\"/>\r\n       <use x=\"55.615234\" xlink:href=\"#ArialMT-53\"/>\r\n       <use x=\"111.230469\" xlink:href=\"#ArialMT-48\"/>\r\n       <use x=\"166.845703\" xlink:href=\"#ArialMT-48\"/>\r\n      </g>\r\n     </g>\r\n    </g>\r\n    <g id=\"xtick_7\">\r\n     <g id=\"line2d_7\">\r\n      <path clip-path=\"url(#p0b48ff25cf)\" d=\"M 682.353919 315 \r\nL 682.353919 43.2 \r\n\" style=\"fill:none;stroke:#ffffff;stroke-linecap:round;\"/>\r\n     </g>\r\n     <g id=\"text_7\">\r\n      <!-- 1750 -->\r\n      <g style=\"fill:#262626;\" transform=\"translate(670.119857 332.373594)scale(0.11 -0.11)\">\r\n       <use xlink:href=\"#ArialMT-49\"/>\r\n       <use x=\"55.615234\" xlink:href=\"#ArialMT-55\"/>\r\n       <use x=\"111.230469\" xlink:href=\"#ArialMT-53\"/>\r\n       <use x=\"166.845703\" xlink:href=\"#ArialMT-48\"/>\r\n      </g>\r\n     </g>\r\n    </g>\r\n    <g id=\"xtick_8\">\r\n     <g id=\"line2d_8\">\r\n      <path clip-path=\"url(#p0b48ff25cf)\" d=\"M 781.019517 315 \r\nL 781.019517 43.2 \r\n\" style=\"fill:none;stroke:#ffffff;stroke-linecap:round;\"/>\r\n     </g>\r\n     <g id=\"text_8\">\r\n      <!-- 2000 -->\r\n      <g style=\"fill:#262626;\" transform=\"translate(768.785455 332.373594)scale(0.11 -0.11)\">\r\n       <use xlink:href=\"#ArialMT-50\"/>\r\n       <use x=\"55.615234\" xlink:href=\"#ArialMT-48\"/>\r\n       <use x=\"111.230469\" xlink:href=\"#ArialMT-48\"/>\r\n       <use x=\"166.845703\" xlink:href=\"#ArialMT-48\"/>\r\n      </g>\r\n     </g>\r\n    </g>\r\n   </g>\r\n   <g id=\"matplotlib.axis_2\">\r\n    <g id=\"ytick_1\">\r\n     <g id=\"line2d_9\">\r\n      <path clip-path=\"url(#p0b48ff25cf)\" d=\"M 38.107031 287.34038 \r\nL 875.107031 287.34038 \r\n\" style=\"fill:none;stroke:#ffffff;stroke-linecap:round;\"/>\r\n     </g>\r\n     <g id=\"text_9\">\r\n      <!-- 0.70 -->\r\n      <g style=\"fill:#262626;\" transform=\"translate(7.2 291.277177)scale(0.11 -0.11)\">\r\n       <defs>\r\n        <path d=\"M 9.078125 0 \r\nL 9.078125 10.015625 \r\nL 19.09375 10.015625 \r\nL 19.09375 0 \r\nz\r\n\" id=\"ArialMT-46\"/>\r\n       </defs>\r\n       <use xlink:href=\"#ArialMT-48\"/>\r\n       <use x=\"55.615234\" xlink:href=\"#ArialMT-46\"/>\r\n       <use x=\"83.398438\" xlink:href=\"#ArialMT-55\"/>\r\n       <use x=\"139.013672\" xlink:href=\"#ArialMT-48\"/>\r\n      </g>\r\n     </g>\r\n    </g>\r\n    <g id=\"ytick_2\">\r\n     <g id=\"line2d_10\">\r\n      <path clip-path=\"url(#p0b48ff25cf)\" d=\"M 38.107031 246.544674 \r\nL 875.107031 246.544674 \r\n\" style=\"fill:none;stroke:#ffffff;stroke-linecap:round;\"/>\r\n     </g>\r\n     <g id=\"text_10\">\r\n      <!-- 0.75 -->\r\n      <g style=\"fill:#262626;\" transform=\"translate(7.2 250.481471)scale(0.11 -0.11)\">\r\n       <use xlink:href=\"#ArialMT-48\"/>\r\n       <use x=\"55.615234\" xlink:href=\"#ArialMT-46\"/>\r\n       <use x=\"83.398438\" xlink:href=\"#ArialMT-55\"/>\r\n       <use x=\"139.013672\" xlink:href=\"#ArialMT-53\"/>\r\n      </g>\r\n     </g>\r\n    </g>\r\n    <g id=\"ytick_3\">\r\n     <g id=\"line2d_11\">\r\n      <path clip-path=\"url(#p0b48ff25cf)\" d=\"M 38.107031 205.748969 \r\nL 875.107031 205.748969 \r\n\" style=\"fill:none;stroke:#ffffff;stroke-linecap:round;\"/>\r\n     </g>\r\n     <g id=\"text_11\">\r\n      <!-- 0.80 -->\r\n      <g style=\"fill:#262626;\" transform=\"translate(7.2 209.685766)scale(0.11 -0.11)\">\r\n       <defs>\r\n        <path d=\"M 17.671875 38.8125 \r\nQ 12.203125 40.828125 9.5625 44.53125 \r\nQ 6.9375 48.25 6.9375 53.421875 \r\nQ 6.9375 61.234375 12.546875 66.546875 \r\nQ 18.171875 71.875 27.484375 71.875 \r\nQ 36.859375 71.875 42.578125 66.421875 \r\nQ 48.296875 60.984375 48.296875 53.171875 \r\nQ 48.296875 48.1875 45.671875 44.5 \r\nQ 43.0625 40.828125 37.75 38.8125 \r\nQ 44.34375 36.671875 47.78125 31.875 \r\nQ 51.21875 27.09375 51.21875 20.453125 \r\nQ 51.21875 11.28125 44.71875 5.03125 \r\nQ 38.234375 -1.21875 27.640625 -1.21875 \r\nQ 17.046875 -1.21875 10.546875 5.046875 \r\nQ 4.046875 11.328125 4.046875 20.703125 \r\nQ 4.046875 27.6875 7.59375 32.390625 \r\nQ 11.140625 37.109375 17.671875 38.8125 \r\nz\r\nM 15.921875 53.71875 \r\nQ 15.921875 48.640625 19.1875 45.40625 \r\nQ 22.46875 42.1875 27.6875 42.1875 \r\nQ 32.765625 42.1875 36.015625 45.375 \r\nQ 39.265625 48.578125 39.265625 53.21875 \r\nQ 39.265625 58.0625 35.90625 61.359375 \r\nQ 32.5625 64.65625 27.59375 64.65625 \r\nQ 22.5625 64.65625 19.234375 61.421875 \r\nQ 15.921875 58.203125 15.921875 53.71875 \r\nz\r\nM 13.09375 20.65625 \r\nQ 13.09375 16.890625 14.875 13.375 \r\nQ 16.65625 9.859375 20.171875 7.921875 \r\nQ 23.6875 6 27.734375 6 \r\nQ 34.03125 6 38.125 10.046875 \r\nQ 42.234375 14.109375 42.234375 20.359375 \r\nQ 42.234375 26.703125 38.015625 30.859375 \r\nQ 33.796875 35.015625 27.4375 35.015625 \r\nQ 21.234375 35.015625 17.15625 30.90625 \r\nQ 13.09375 26.8125 13.09375 20.65625 \r\nz\r\n\" id=\"ArialMT-56\"/>\r\n       </defs>\r\n       <use xlink:href=\"#ArialMT-48\"/>\r\n       <use x=\"55.615234\" xlink:href=\"#ArialMT-46\"/>\r\n       <use x=\"83.398438\" xlink:href=\"#ArialMT-56\"/>\r\n       <use x=\"139.013672\" xlink:href=\"#ArialMT-48\"/>\r\n      </g>\r\n     </g>\r\n    </g>\r\n    <g id=\"ytick_4\">\r\n     <g id=\"line2d_12\">\r\n      <path clip-path=\"url(#p0b48ff25cf)\" d=\"M 38.107031 164.953264 \r\nL 875.107031 164.953264 \r\n\" style=\"fill:none;stroke:#ffffff;stroke-linecap:round;\"/>\r\n     </g>\r\n     <g id=\"text_12\">\r\n      <!-- 0.85 -->\r\n      <g style=\"fill:#262626;\" transform=\"translate(7.2 168.89006)scale(0.11 -0.11)\">\r\n       <use xlink:href=\"#ArialMT-48\"/>\r\n       <use x=\"55.615234\" xlink:href=\"#ArialMT-46\"/>\r\n       <use x=\"83.398438\" xlink:href=\"#ArialMT-56\"/>\r\n       <use x=\"139.013672\" xlink:href=\"#ArialMT-53\"/>\r\n      </g>\r\n     </g>\r\n    </g>\r\n    <g id=\"ytick_5\">\r\n     <g id=\"line2d_13\">\r\n      <path clip-path=\"url(#p0b48ff25cf)\" d=\"M 38.107031 124.157558 \r\nL 875.107031 124.157558 \r\n\" style=\"fill:none;stroke:#ffffff;stroke-linecap:round;\"/>\r\n     </g>\r\n     <g id=\"text_13\">\r\n      <!-- 0.90 -->\r\n      <g style=\"fill:#262626;\" transform=\"translate(7.2 128.094355)scale(0.11 -0.11)\">\r\n       <defs>\r\n        <path d=\"M 5.46875 16.546875 \r\nL 13.921875 17.328125 \r\nQ 14.984375 11.375 18.015625 8.6875 \r\nQ 21.046875 6 25.78125 6 \r\nQ 29.828125 6 32.875 7.859375 \r\nQ 35.9375 9.71875 37.890625 12.8125 \r\nQ 39.84375 15.921875 41.15625 21.1875 \r\nQ 42.484375 26.46875 42.484375 31.9375 \r\nQ 42.484375 32.515625 42.4375 33.6875 \r\nQ 39.796875 29.5 35.234375 26.875 \r\nQ 30.671875 24.265625 25.34375 24.265625 \r\nQ 16.453125 24.265625 10.296875 30.703125 \r\nQ 4.15625 37.15625 4.15625 47.703125 \r\nQ 4.15625 58.59375 10.578125 65.234375 \r\nQ 17 71.875 26.65625 71.875 \r\nQ 33.640625 71.875 39.421875 68.109375 \r\nQ 45.21875 64.359375 48.21875 57.390625 \r\nQ 51.21875 50.4375 51.21875 37.25 \r\nQ 51.21875 23.53125 48.234375 15.40625 \r\nQ 45.265625 7.28125 39.375 3.03125 \r\nQ 33.5 -1.21875 25.59375 -1.21875 \r\nQ 17.1875 -1.21875 11.859375 3.4375 \r\nQ 6.546875 8.109375 5.46875 16.546875 \r\nz\r\nM 41.453125 48.140625 \r\nQ 41.453125 55.71875 37.421875 60.15625 \r\nQ 33.40625 64.59375 27.734375 64.59375 \r\nQ 21.875 64.59375 17.53125 59.8125 \r\nQ 13.1875 55.03125 13.1875 47.40625 \r\nQ 13.1875 40.578125 17.3125 36.296875 \r\nQ 21.4375 32.03125 27.484375 32.03125 \r\nQ 33.59375 32.03125 37.515625 36.296875 \r\nQ 41.453125 40.578125 41.453125 48.140625 \r\nz\r\n\" id=\"ArialMT-57\"/>\r\n       </defs>\r\n       <use xlink:href=\"#ArialMT-48\"/>\r\n       <use x=\"55.615234\" xlink:href=\"#ArialMT-46\"/>\r\n       <use x=\"83.398438\" xlink:href=\"#ArialMT-57\"/>\r\n       <use x=\"139.013672\" xlink:href=\"#ArialMT-48\"/>\r\n      </g>\r\n     </g>\r\n    </g>\r\n    <g id=\"ytick_6\">\r\n     <g id=\"line2d_14\">\r\n      <path clip-path=\"url(#p0b48ff25cf)\" d=\"M 38.107031 83.361853 \r\nL 875.107031 83.361853 \r\n\" style=\"fill:none;stroke:#ffffff;stroke-linecap:round;\"/>\r\n     </g>\r\n     <g id=\"text_14\">\r\n      <!-- 0.95 -->\r\n      <g style=\"fill:#262626;\" transform=\"translate(7.2 87.29865)scale(0.11 -0.11)\">\r\n       <use xlink:href=\"#ArialMT-48\"/>\r\n       <use x=\"55.615234\" xlink:href=\"#ArialMT-46\"/>\r\n       <use x=\"83.398438\" xlink:href=\"#ArialMT-57\"/>\r\n       <use x=\"139.013672\" xlink:href=\"#ArialMT-53\"/>\r\n      </g>\r\n     </g>\r\n    </g>\r\n   </g>\r\n   <g id=\"PolyCollection_1\">\r\n    <defs>\r\n     <path d=\"M 76.152486 -283.887943 \r\nL 76.152486 -278.551299 \r\nL 116.013387 -282.579769 \r\nL 156.268951 -278.314972 \r\nL 196.129853 -280.030678 \r\nL 236.385417 -274.623146 \r\nL 276.246318 -275.052722 \r\nL 316.10722 -272.891438 \r\nL 356.362784 -269.20267 \r\nL 396.223685 -270.839497 \r\nL 436.479249 -267.229144 \r\nL 476.340151 -266.281109 \r\nL 516.595715 -264.271456 \r\nL 556.456616 -261.776487 \r\nL 596.71218 -261.77022 \r\nL 636.573082 -260.074265 \r\nL 676.828646 -259.019791 \r\nL 716.689547 -257.93174 \r\nL 756.945111 -257.675029 \r\nL 796.806013 -255.915538 \r\nL 837.061577 -255.942426 \r\nL 837.061577 -260.929738 \r\nL 837.061577 -260.929738 \r\nL 796.806013 -260.537623 \r\nL 756.945111 -261.00249 \r\nL 716.689547 -261.142126 \r\nL 676.828646 -261.616735 \r\nL 636.573082 -263.127478 \r\nL 596.71218 -263.321003 \r\nL 556.456616 -265.746848 \r\nL 516.595715 -265.40738 \r\nL 476.340151 -269.270646 \r\nL 436.479249 -270.551624 \r\nL 396.223685 -273.873825 \r\nL 356.362784 -273.175777 \r\nL 316.10722 -276.149742 \r\nL 276.246318 -279.038957 \r\nL 236.385417 -278.268575 \r\nL 196.129853 -281.453815 \r\nL 156.268951 -283.735034 \r\nL 116.013387 -286.205298 \r\nL 76.152486 -283.887943 \r\nz\r\n\" id=\"m45231f3e25\" style=\"stroke:#ffa500;stroke-opacity:0.1;\"/>\r\n    </defs>\r\n    <g clip-path=\"url(#p0b48ff25cf)\">\r\n     <use style=\"fill:#ffa500;fill-opacity:0.1;stroke:#ffa500;stroke-opacity:0.1;\" x=\"0\" xlink:href=\"#m45231f3e25\" y=\"341.759844\"/>\r\n    </g>\r\n   </g>\r\n   <g id=\"PolyCollection_2\">\r\n    <defs>\r\n     <path d=\"M 76.152486 -80.629513 \r\nL 76.152486 -39.114389 \r\nL 116.013387 -73.145202 \r\nL 156.268951 -100.863188 \r\nL 196.129853 -121.071738 \r\nL 236.385417 -136.183572 \r\nL 276.246318 -142.673397 \r\nL 316.10722 -149.78158 \r\nL 356.362784 -152.895276 \r\nL 396.223685 -157.331976 \r\nL 436.479249 -158.383355 \r\nL 476.340151 -162.803683 \r\nL 516.595715 -168.967824 \r\nL 556.456616 -175.362141 \r\nL 596.71218 -178.27845 \r\nL 636.573082 -183.208845 \r\nL 676.828646 -184.798285 \r\nL 716.689547 -190.730685 \r\nL 756.945111 -191.550126 \r\nL 796.806013 -192.760334 \r\nL 837.061577 -197.567274 \r\nL 837.061577 -219.941201 \r\nL 837.061577 -219.941201 \r\nL 796.806013 -216.912231 \r\nL 756.945111 -214.857476 \r\nL 716.689547 -208.494001 \r\nL 676.828646 -205.937498 \r\nL 636.573082 -203.608983 \r\nL 596.71218 -199.397483 \r\nL 556.456616 -201.6608 \r\nL 516.595715 -194.342275 \r\nL 476.340151 -192.670506 \r\nL 436.479249 -193.825872 \r\nL 396.223685 -187.04134 \r\nL 356.362784 -171.888267 \r\nL 316.10722 -170.431015 \r\nL 276.246318 -161.867378 \r\nL 236.385417 -150.726406 \r\nL 196.129853 -142.983503 \r\nL 156.268951 -129.236444 \r\nL 116.013387 -120.386851 \r\nL 76.152486 -80.629513 \r\nz\r\n\" id=\"mb073210c81\" style=\"stroke:#0000ff;stroke-opacity:0.1;\"/>\r\n    </defs>\r\n    <g clip-path=\"url(#p0b48ff25cf)\">\r\n     <use style=\"fill:#0000ff;fill-opacity:0.1;stroke:#0000ff;stroke-opacity:0.1;\" x=\"0\" xlink:href=\"#mb073210c81\" y=\"341.759844\"/>\r\n    </g>\r\n   </g>\r\n   <g id=\"line2d_15\">\r\n    <path clip-path=\"url(#p0b48ff25cf)\" d=\"M 76.152486 281.887893 \r\nL 116.013387 244.993817 \r\nL 156.268951 226.710028 \r\nL 196.129853 209.732223 \r\nL 236.385417 198.304855 \r\nL 276.246318 189.489456 \r\nL 316.10722 181.653546 \r\nL 356.362784 179.368073 \r\nL 396.223685 169.573185 \r\nL 436.479249 165.655231 \r\nL 476.340151 164.022749 \r\nL 516.595715 160.104794 \r\nL 556.456616 153.248373 \r\nL 596.71218 152.921877 \r\nL 636.573082 148.35093 \r\nL 676.828646 146.391952 \r\nL 716.689547 142.147501 \r\nL 756.945111 138.556042 \r\nL 796.806013 136.923561 \r\nL 837.061577 133.005606 \r\n\" style=\"fill:none;stroke:#4c72b0;stroke-linecap:round;stroke-width:1.5;\"/>\r\n   </g>\r\n   <g id=\"line2d_16\">\r\n    <path clip-path=\"url(#p0b48ff25cf)\" d=\"M 76.152486 60.540223 \r\nL 116.013387 57.36731 \r\nL 156.268951 60.734841 \r\nL 196.129853 61.017597 \r\nL 236.385417 65.313983 \r\nL 276.246318 64.714004 \r\nL 316.10722 67.239254 \r\nL 356.362784 70.57062 \r\nL 396.223685 69.403183 \r\nL 436.479249 72.86946 \r\nL 476.340151 73.983966 \r\nL 516.595715 76.920426 \r\nL 556.456616 77.998177 \r\nL 596.71218 79.214232 \r\nL 636.573082 80.158973 \r\nL 676.828646 81.441581 \r\nL 716.689547 82.222911 \r\nL 756.945111 82.421084 \r\nL 796.806013 83.533263 \r\nL 837.061577 83.323762 \r\n\" style=\"fill:none;stroke:#dd8452;stroke-linecap:round;stroke-width:1.5;\"/>\r\n   </g>\r\n   <g id=\"patch_3\">\r\n    <path d=\"M 38.107031 315 \r\nL 38.107031 43.2 \r\n\" style=\"fill:none;stroke:#ffffff;stroke-linecap:square;stroke-linejoin:miter;stroke-width:1.25;\"/>\r\n   </g>\r\n   <g id=\"patch_4\">\r\n    <path d=\"M 875.107031 315 \r\nL 875.107031 43.2 \r\n\" style=\"fill:none;stroke:#ffffff;stroke-linecap:square;stroke-linejoin:miter;stroke-width:1.25;\"/>\r\n   </g>\r\n   <g id=\"patch_5\">\r\n    <path d=\"M 38.107031 315 \r\nL 875.107031 315 \r\n\" style=\"fill:none;stroke:#ffffff;stroke-linecap:square;stroke-linejoin:miter;stroke-width:1.25;\"/>\r\n   </g>\r\n   <g id=\"patch_6\">\r\n    <path d=\"M 38.107031 43.2 \r\nL 875.107031 43.2 \r\n\" style=\"fill:none;stroke:#ffffff;stroke-linecap:square;stroke-linejoin:miter;stroke-width:1.25;\"/>\r\n   </g>\r\n   <g id=\"legend_1\">\r\n    <g id=\"patch_7\">\r\n     <path d=\"M 807.560156 83.119687 \r\nL 867.407031 83.119687 \r\nQ 869.607031 83.119687 869.607031 80.919687 \r\nL 869.607031 50.9 \r\nQ 869.607031 48.7 867.407031 48.7 \r\nL 807.560156 48.7 \r\nQ 805.360156 48.7 805.360156 50.9 \r\nL 805.360156 80.919687 \r\nQ 805.360156 83.119687 807.560156 83.119687 \r\nz\r\n\" style=\"fill:#eaeaf2;opacity:0.8;stroke:#cccccc;stroke-linejoin:miter;\"/>\r\n    </g>\r\n    <g id=\"line2d_17\">\r\n     <path d=\"M 809.760156 57.123594 \r\nL 831.760156 57.123594 \r\n\" style=\"fill:none;stroke:#4c72b0;stroke-linecap:round;stroke-width:1.5;\"/>\r\n    </g>\r\n    <g id=\"line2d_18\"/>\r\n    <g id=\"text_15\">\r\n     <!-- Test -->\r\n     <g style=\"fill:#262626;\" transform=\"translate(840.560156 60.973594)scale(0.11 -0.11)\">\r\n      <defs>\r\n       <path d=\"M 25.921875 0 \r\nL 25.921875 63.140625 \r\nL 2.34375 63.140625 \r\nL 2.34375 71.578125 \r\nL 59.078125 71.578125 \r\nL 59.078125 63.140625 \r\nL 35.40625 63.140625 \r\nL 35.40625 0 \r\nz\r\n\" id=\"ArialMT-84\"/>\r\n       <path d=\"M 42.09375 16.703125 \r\nL 51.171875 15.578125 \r\nQ 49.03125 7.625 43.21875 3.21875 \r\nQ 37.40625 -1.171875 28.375 -1.171875 \r\nQ 17 -1.171875 10.328125 5.828125 \r\nQ 3.65625 12.84375 3.65625 25.484375 \r\nQ 3.65625 38.578125 10.390625 45.796875 \r\nQ 17.140625 53.03125 27.875 53.03125 \r\nQ 38.28125 53.03125 44.875 45.953125 \r\nQ 51.46875 38.875 51.46875 26.03125 \r\nQ 51.46875 25.25 51.421875 23.6875 \r\nL 12.75 23.6875 \r\nQ 13.234375 15.140625 17.578125 10.59375 \r\nQ 21.921875 6.0625 28.421875 6.0625 \r\nQ 33.25 6.0625 36.671875 8.59375 \r\nQ 40.09375 11.140625 42.09375 16.703125 \r\nz\r\nM 13.234375 30.90625 \r\nL 42.1875 30.90625 \r\nQ 41.609375 37.453125 38.875 40.71875 \r\nQ 34.671875 45.796875 27.984375 45.796875 \r\nQ 21.921875 45.796875 17.796875 41.75 \r\nQ 13.671875 37.703125 13.234375 30.90625 \r\nz\r\n\" id=\"ArialMT-101\"/>\r\n       <path d=\"M 3.078125 15.484375 \r\nL 11.765625 16.84375 \r\nQ 12.5 11.625 15.84375 8.84375 \r\nQ 19.1875 6.0625 25.203125 6.0625 \r\nQ 31.25 6.0625 34.171875 8.515625 \r\nQ 37.109375 10.984375 37.109375 14.3125 \r\nQ 37.109375 17.28125 34.515625 19 \r\nQ 32.71875 20.171875 25.53125 21.96875 \r\nQ 15.875 24.421875 12.140625 26.203125 \r\nQ 8.40625 27.984375 6.46875 31.125 \r\nQ 4.546875 34.28125 4.546875 38.09375 \r\nQ 4.546875 41.546875 6.125 44.5 \r\nQ 7.71875 47.46875 10.453125 49.421875 \r\nQ 12.5 50.921875 16.03125 51.96875 \r\nQ 19.578125 53.03125 23.640625 53.03125 \r\nQ 29.734375 53.03125 34.34375 51.265625 \r\nQ 38.96875 49.515625 41.15625 46.5 \r\nQ 43.359375 43.5 44.1875 38.484375 \r\nL 35.59375 37.3125 \r\nQ 35.015625 41.3125 32.203125 43.546875 \r\nQ 29.390625 45.796875 24.265625 45.796875 \r\nQ 18.21875 45.796875 15.625 43.796875 \r\nQ 13.03125 41.796875 13.03125 39.109375 \r\nQ 13.03125 37.40625 14.109375 36.03125 \r\nQ 15.1875 34.625 17.484375 33.6875 \r\nQ 18.796875 33.203125 25.25 31.453125 \r\nQ 34.578125 28.953125 38.25 27.359375 \r\nQ 41.9375 25.78125 44.03125 22.75 \r\nQ 46.140625 19.734375 46.140625 15.234375 \r\nQ 46.140625 10.84375 43.578125 6.953125 \r\nQ 41.015625 3.078125 36.171875 0.953125 \r\nQ 31.34375 -1.171875 25.25 -1.171875 \r\nQ 15.140625 -1.171875 9.84375 3.03125 \r\nQ 4.546875 7.234375 3.078125 15.484375 \r\nz\r\n\" id=\"ArialMT-115\"/>\r\n       <path d=\"M 25.78125 7.859375 \r\nL 27.046875 0.09375 \r\nQ 23.34375 -0.6875 20.40625 -0.6875 \r\nQ 15.625 -0.6875 12.984375 0.828125 \r\nQ 10.359375 2.34375 9.28125 4.8125 \r\nQ 8.203125 7.28125 8.203125 15.1875 \r\nL 8.203125 45.015625 \r\nL 1.765625 45.015625 \r\nL 1.765625 51.859375 \r\nL 8.203125 51.859375 \r\nL 8.203125 64.703125 \r\nL 16.9375 69.96875 \r\nL 16.9375 51.859375 \r\nL 25.78125 51.859375 \r\nL 25.78125 45.015625 \r\nL 16.9375 45.015625 \r\nL 16.9375 14.703125 \r\nQ 16.9375 10.9375 17.40625 9.859375 \r\nQ 17.875 8.796875 18.921875 8.15625 \r\nQ 19.96875 7.515625 21.921875 7.515625 \r\nQ 23.390625 7.515625 25.78125 7.859375 \r\nz\r\n\" id=\"ArialMT-116\"/>\r\n      </defs>\r\n      <use xlink:href=\"#ArialMT-84\"/>\r\n      <use x=\"49.958984\" xlink:href=\"#ArialMT-101\"/>\r\n      <use x=\"105.574219\" xlink:href=\"#ArialMT-115\"/>\r\n      <use x=\"155.574219\" xlink:href=\"#ArialMT-116\"/>\r\n     </g>\r\n    </g>\r\n    <g id=\"line2d_19\">\r\n     <path d=\"M 809.760156 72.683437 \r\nL 831.760156 72.683437 \r\n\" style=\"fill:none;stroke:#dd8452;stroke-linecap:round;stroke-width:1.5;\"/>\r\n    </g>\r\n    <g id=\"line2d_20\"/>\r\n    <g id=\"text_16\">\r\n     <!-- Train -->\r\n     <g style=\"fill:#262626;\" transform=\"translate(840.560156 76.533437)scale(0.11 -0.11)\">\r\n      <defs>\r\n       <path d=\"M 6.5 0 \r\nL 6.5 51.859375 \r\nL 14.40625 51.859375 \r\nL 14.40625 44 \r\nQ 17.4375 49.515625 20 51.265625 \r\nQ 22.5625 53.03125 25.640625 53.03125 \r\nQ 30.078125 53.03125 34.671875 50.203125 \r\nL 31.640625 42.046875 \r\nQ 28.421875 43.953125 25.203125 43.953125 \r\nQ 22.3125 43.953125 20.015625 42.21875 \r\nQ 17.71875 40.484375 16.75 37.40625 \r\nQ 15.28125 32.71875 15.28125 27.15625 \r\nL 15.28125 0 \r\nz\r\n\" id=\"ArialMT-114\"/>\r\n       <path d=\"M 40.4375 6.390625 \r\nQ 35.546875 2.25 31.03125 0.53125 \r\nQ 26.515625 -1.171875 21.34375 -1.171875 \r\nQ 12.796875 -1.171875 8.203125 3 \r\nQ 3.609375 7.171875 3.609375 13.671875 \r\nQ 3.609375 17.484375 5.34375 20.625 \r\nQ 7.078125 23.78125 9.890625 25.6875 \r\nQ 12.703125 27.59375 16.21875 28.5625 \r\nQ 18.796875 29.25 24.03125 29.890625 \r\nQ 34.671875 31.15625 39.703125 32.90625 \r\nQ 39.75 34.71875 39.75 35.203125 \r\nQ 39.75 40.578125 37.25 42.78125 \r\nQ 33.890625 45.75 27.25 45.75 \r\nQ 21.046875 45.75 18.09375 43.578125 \r\nQ 15.140625 41.40625 13.71875 35.890625 \r\nL 5.125 37.0625 \r\nQ 6.296875 42.578125 8.984375 45.96875 \r\nQ 11.671875 49.359375 16.75 51.1875 \r\nQ 21.828125 53.03125 28.515625 53.03125 \r\nQ 35.15625 53.03125 39.296875 51.46875 \r\nQ 43.453125 49.90625 45.40625 47.53125 \r\nQ 47.359375 45.171875 48.140625 41.546875 \r\nQ 48.578125 39.3125 48.578125 33.453125 \r\nL 48.578125 21.734375 \r\nQ 48.578125 9.46875 49.140625 6.21875 \r\nQ 49.703125 2.984375 51.375 0 \r\nL 42.1875 0 \r\nQ 40.828125 2.734375 40.4375 6.390625 \r\nz\r\nM 39.703125 26.03125 \r\nQ 34.90625 24.078125 25.34375 22.703125 \r\nQ 19.921875 21.921875 17.671875 20.9375 \r\nQ 15.4375 19.96875 14.203125 18.09375 \r\nQ 12.984375 16.21875 12.984375 13.921875 \r\nQ 12.984375 10.40625 15.640625 8.0625 \r\nQ 18.3125 5.71875 23.4375 5.71875 \r\nQ 28.515625 5.71875 32.46875 7.9375 \r\nQ 36.421875 10.15625 38.28125 14.015625 \r\nQ 39.703125 17 39.703125 22.796875 \r\nz\r\n\" id=\"ArialMT-97\"/>\r\n       <path d=\"M 6.640625 61.46875 \r\nL 6.640625 71.578125 \r\nL 15.4375 71.578125 \r\nL 15.4375 61.46875 \r\nz\r\nM 6.640625 0 \r\nL 6.640625 51.859375 \r\nL 15.4375 51.859375 \r\nL 15.4375 0 \r\nz\r\n\" id=\"ArialMT-105\"/>\r\n       <path d=\"M 6.59375 0 \r\nL 6.59375 51.859375 \r\nL 14.5 51.859375 \r\nL 14.5 44.484375 \r\nQ 20.21875 53.03125 31 53.03125 \r\nQ 35.6875 53.03125 39.625 51.34375 \r\nQ 43.5625 49.65625 45.515625 46.921875 \r\nQ 47.46875 44.1875 48.25 40.4375 \r\nQ 48.734375 37.984375 48.734375 31.890625 \r\nL 48.734375 0 \r\nL 39.9375 0 \r\nL 39.9375 31.546875 \r\nQ 39.9375 36.921875 38.90625 39.578125 \r\nQ 37.890625 42.234375 35.28125 43.8125 \r\nQ 32.671875 45.40625 29.15625 45.40625 \r\nQ 23.53125 45.40625 19.453125 41.84375 \r\nQ 15.375 38.28125 15.375 28.328125 \r\nL 15.375 0 \r\nz\r\n\" id=\"ArialMT-110\"/>\r\n      </defs>\r\n      <use xlink:href=\"#ArialMT-84\"/>\r\n      <use x=\"57.333984\" xlink:href=\"#ArialMT-114\"/>\r\n      <use x=\"90.634766\" xlink:href=\"#ArialMT-97\"/>\r\n      <use x=\"146.25\" xlink:href=\"#ArialMT-105\"/>\r\n      <use x=\"168.466797\" xlink:href=\"#ArialMT-110\"/>\r\n     </g>\r\n    </g>\r\n   </g>\r\n  </g>\r\n  <g id=\"text_17\">\r\n   <!-- Learning_Curves -->\r\n   <g style=\"fill:#b2b2b2;\" transform=\"translate(388.277906 17.68275)scale(0.144 -0.144)\">\r\n    <defs>\r\n     <path d=\"M 7.328125 0 \r\nL 7.328125 71.578125 \r\nL 16.796875 71.578125 \r\nL 16.796875 8.453125 \r\nL 52.046875 8.453125 \r\nL 52.046875 0 \r\nz\r\n\" id=\"ArialMT-76\"/>\r\n     <path d=\"M 4.984375 -4.296875 \r\nL 13.53125 -5.5625 \r\nQ 14.0625 -9.515625 16.5 -11.328125 \r\nQ 19.78125 -13.765625 25.4375 -13.765625 \r\nQ 31.546875 -13.765625 34.859375 -11.328125 \r\nQ 38.1875 -8.890625 39.359375 -4.5 \r\nQ 40.046875 -1.8125 39.984375 6.78125 \r\nQ 34.234375 0 25.640625 0 \r\nQ 14.9375 0 9.078125 7.71875 \r\nQ 3.21875 15.4375 3.21875 26.21875 \r\nQ 3.21875 33.640625 5.90625 39.90625 \r\nQ 8.59375 46.1875 13.6875 49.609375 \r\nQ 18.796875 53.03125 25.6875 53.03125 \r\nQ 34.859375 53.03125 40.828125 45.609375 \r\nL 40.828125 51.859375 \r\nL 48.921875 51.859375 \r\nL 48.921875 7.03125 \r\nQ 48.921875 -5.078125 46.453125 -10.125 \r\nQ 44 -15.1875 38.640625 -18.109375 \r\nQ 33.296875 -21.046875 25.484375 -21.046875 \r\nQ 16.21875 -21.046875 10.5 -16.875 \r\nQ 4.78125 -12.703125 4.984375 -4.296875 \r\nz\r\nM 12.25 26.859375 \r\nQ 12.25 16.65625 16.296875 11.96875 \r\nQ 20.359375 7.28125 26.46875 7.28125 \r\nQ 32.515625 7.28125 36.609375 11.9375 \r\nQ 40.71875 16.609375 40.71875 26.5625 \r\nQ 40.71875 36.078125 36.5 40.90625 \r\nQ 32.28125 45.75 26.3125 45.75 \r\nQ 20.453125 45.75 16.34375 40.984375 \r\nQ 12.25 36.234375 12.25 26.859375 \r\nz\r\n\" id=\"ArialMT-103\"/>\r\n     <path d=\"M -1.515625 -19.875 \r\nL -1.515625 -13.53125 \r\nL 56.734375 -13.53125 \r\nL 56.734375 -19.875 \r\nz\r\n\" id=\"ArialMT-95\"/>\r\n     <path d=\"M 58.796875 25.09375 \r\nL 68.265625 22.703125 \r\nQ 65.28125 11.03125 57.546875 4.90625 \r\nQ 49.8125 -1.21875 38.625 -1.21875 \r\nQ 27.046875 -1.21875 19.796875 3.484375 \r\nQ 12.546875 8.203125 8.765625 17.140625 \r\nQ 4.984375 26.078125 4.984375 36.328125 \r\nQ 4.984375 47.515625 9.25 55.828125 \r\nQ 13.53125 64.15625 21.40625 68.46875 \r\nQ 29.296875 72.796875 38.765625 72.796875 \r\nQ 49.515625 72.796875 56.828125 67.328125 \r\nQ 64.15625 61.859375 67.046875 51.953125 \r\nL 57.71875 49.75 \r\nQ 55.21875 57.5625 50.484375 61.125 \r\nQ 45.75 64.703125 38.578125 64.703125 \r\nQ 30.328125 64.703125 24.78125 60.734375 \r\nQ 19.234375 56.78125 16.984375 50.109375 \r\nQ 14.75 43.453125 14.75 36.375 \r\nQ 14.75 27.25 17.40625 20.4375 \r\nQ 20.0625 13.625 25.671875 10.25 \r\nQ 31.296875 6.890625 37.84375 6.890625 \r\nQ 45.796875 6.890625 51.3125 11.46875 \r\nQ 56.84375 16.0625 58.796875 25.09375 \r\nz\r\n\" id=\"ArialMT-67\"/>\r\n     <path d=\"M 40.578125 0 \r\nL 40.578125 7.625 \r\nQ 34.515625 -1.171875 24.125 -1.171875 \r\nQ 19.53125 -1.171875 15.546875 0.578125 \r\nQ 11.578125 2.34375 9.640625 5 \r\nQ 7.71875 7.671875 6.9375 11.53125 \r\nQ 6.390625 14.109375 6.390625 19.734375 \r\nL 6.390625 51.859375 \r\nL 15.1875 51.859375 \r\nL 15.1875 23.09375 \r\nQ 15.1875 16.21875 15.71875 13.8125 \r\nQ 16.546875 10.359375 19.234375 8.375 \r\nQ 21.921875 6.390625 25.875 6.390625 \r\nQ 29.828125 6.390625 33.296875 8.421875 \r\nQ 36.765625 10.453125 38.203125 13.9375 \r\nQ 39.65625 17.4375 39.65625 24.078125 \r\nL 39.65625 51.859375 \r\nL 48.4375 51.859375 \r\nL 48.4375 0 \r\nz\r\n\" id=\"ArialMT-117\"/>\r\n     <path d=\"M 21 0 \r\nL 1.265625 51.859375 \r\nL 10.546875 51.859375 \r\nL 21.6875 20.796875 \r\nQ 23.484375 15.765625 25 10.359375 \r\nQ 26.171875 14.453125 28.265625 20.21875 \r\nL 39.796875 51.859375 \r\nL 48.828125 51.859375 \r\nL 29.203125 0 \r\nz\r\n\" id=\"ArialMT-118\"/>\r\n    </defs>\r\n    <use xlink:href=\"#ArialMT-76\"/>\r\n    <use x=\"55.615234\" xlink:href=\"#ArialMT-101\"/>\r\n    <use x=\"111.230469\" xlink:href=\"#ArialMT-97\"/>\r\n    <use x=\"166.845703\" xlink:href=\"#ArialMT-114\"/>\r\n    <use x=\"200.146484\" xlink:href=\"#ArialMT-110\"/>\r\n    <use x=\"255.761719\" xlink:href=\"#ArialMT-105\"/>\r\n    <use x=\"277.978516\" xlink:href=\"#ArialMT-110\"/>\r\n    <use x=\"333.59375\" xlink:href=\"#ArialMT-103\"/>\r\n    <use x=\"389.208984\" xlink:href=\"#ArialMT-95\"/>\r\n    <use x=\"444.824219\" xlink:href=\"#ArialMT-67\"/>\r\n    <use x=\"517.041016\" xlink:href=\"#ArialMT-117\"/>\r\n    <use x=\"572.65625\" xlink:href=\"#ArialMT-114\"/>\r\n    <use x=\"605.957031\" xlink:href=\"#ArialMT-118\"/>\r\n    <use x=\"655.957031\" xlink:href=\"#ArialMT-101\"/>\r\n    <use x=\"711.572266\" xlink:href=\"#ArialMT-115\"/>\r\n   </g>\r\n  </g>\r\n </g>\r\n <defs>\r\n  <clipPath id=\"p0b48ff25cf\">\r\n   <rect height=\"271.8\" width=\"837\" x=\"38.107031\" y=\"43.2\"/>\r\n  </clipPath>\r\n </defs>\r\n</svg>\r\n",
      "image/png": "[encoded data removed]"
     },
     "metadata": {}
    }
   ],
   "source": [
    "\n",
    "train_sizes,train_scores_means,train_scores_std,test_scores_means, test_scores_std = get_learning_curve(features_train, y_train)\n",
    "plot_learning_curve(train_sizes,train_scores_means,train_scores_std,test_scores_means, test_scores_std)"
   ]
  },
  {
   "source": [
    "## Using the model to classify Patrick Rothfuss"
   ],
   "cell_type": "markdown",
   "metadata": {}
  },
  {
   "cell_type": "code",
   "execution_count": 83,
   "metadata": {},
   "outputs": [
    {
     "output_type": "stream",
     "name": "stdout",
     "text": [
      "Sounds like a Sentence from Cohen with probability 0.6625188709313441\nSounds like a Sentence from Cohen with probability 0.7022596466527958\nSounds like a Sentence from Shakespeare with probability 0.6580928173835171\nSounds like a Sentence from Cohen with probability 0.7158803595045065\nSounds like a Sentence from Shakespeare with probability 0.7471732721478114\nSounds like a Sentence from Cohen with probability 0.5328563349805123\nSounds like a Sentence from Cohen with probability 0.6207660893462263\n"
     ]
    }
   ],
   "source": [
    "quotes = [\n",
    "'There are three things all wise men fear the sea in storm, a night with no moon, and the anger of a gentle man',\n",
    "\n",
    "\"Music sounds different to the one who plays it. It is the musician's curse\",\n",
    "\n",
    "\"It is the questions we can't answer that teach us the most. They teach us how to think\",\n",
    "\n",
    "'All the truth in the world is held in stories',\n",
    "\n",
    "'Knowing your own ignorance is the first step to enlightenment',\n",
    "\n",
    "'I have waited a long time to show these flowers how pretty you are', \n",
    "\n",
    "'We understand how dangerous a mask can be. We all become what we pretend to be']\n",
    "\n",
    "classify_quotes(quotes, model)\n"
   ]
  },
  {
   "cell_type": "code",
   "execution_count": null,
   "metadata": {},
   "outputs": [],
   "source": []
  }
 ]
}